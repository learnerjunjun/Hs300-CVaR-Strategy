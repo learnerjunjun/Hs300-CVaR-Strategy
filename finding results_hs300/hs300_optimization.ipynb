{
 "cells": [
  {
   "cell_type": "code",
   "execution_count": 1,
   "id": "4f37c57e",
   "metadata": {
    "ExecuteTime": {
     "end_time": "2023-11-27T07:09:55.975184Z",
     "start_time": "2023-11-27T07:09:55.392279Z"
    }
   },
   "outputs": [],
   "source": [
    "#导入包\n",
    "import pandas as pd\n",
    "import numpy as np"
   ]
  },
  {
   "cell_type": "code",
   "execution_count": 7,
   "id": "b06e4853",
   "metadata": {
    "ExecuteTime": {
     "end_time": "2023-11-27T07:51:15.024576Z",
     "start_time": "2023-11-27T07:51:14.861452Z"
    }
   },
   "outputs": [
    {
     "data": {
      "text/html": [
       "<div>\n",
       "<style scoped>\n",
       "    .dataframe tbody tr th:only-of-type {\n",
       "        vertical-align: middle;\n",
       "    }\n",
       "\n",
       "    .dataframe tbody tr th {\n",
       "        vertical-align: top;\n",
       "    }\n",
       "\n",
       "    .dataframe thead th {\n",
       "        text-align: right;\n",
       "    }\n",
       "</style>\n",
       "<table border=\"1\" class=\"dataframe\">\n",
       "  <thead>\n",
       "    <tr style=\"text-align: right;\">\n",
       "      <th></th>\n",
       "      <th>Unnamed: 0</th>\n",
       "      <th>month_details</th>\n",
       "      <th>stock</th>\n",
       "      <th>stock_name</th>\n",
       "      <th>month</th>\n",
       "    </tr>\n",
       "  </thead>\n",
       "  <tbody>\n",
       "    <tr>\n",
       "      <th>0</th>\n",
       "      <td>0</td>\n",
       "      <td>2005-04</td>\n",
       "      <td>600177</td>\n",
       "      <td>雅戈尔</td>\n",
       "      <td>85</td>\n",
       "    </tr>\n",
       "    <tr>\n",
       "      <th>1</th>\n",
       "      <td>1</td>\n",
       "      <td>2005-04</td>\n",
       "      <td>000709</td>\n",
       "      <td>河钢股份</td>\n",
       "      <td>85</td>\n",
       "    </tr>\n",
       "    <tr>\n",
       "      <th>2</th>\n",
       "      <td>2</td>\n",
       "      <td>2005-04</td>\n",
       "      <td>600170</td>\n",
       "      <td>上海建工</td>\n",
       "      <td>85</td>\n",
       "    </tr>\n",
       "    <tr>\n",
       "      <th>3</th>\n",
       "      <td>3</td>\n",
       "      <td>2005-04</td>\n",
       "      <td>600188</td>\n",
       "      <td>兖州煤业</td>\n",
       "      <td>85</td>\n",
       "    </tr>\n",
       "    <tr>\n",
       "      <th>4</th>\n",
       "      <td>4</td>\n",
       "      <td>2005-04</td>\n",
       "      <td>600221</td>\n",
       "      <td>海航控股</td>\n",
       "      <td>85</td>\n",
       "    </tr>\n",
       "    <tr>\n",
       "      <th>...</th>\n",
       "      <td>...</td>\n",
       "      <td>...</td>\n",
       "      <td>...</td>\n",
       "      <td>...</td>\n",
       "      <td>...</td>\n",
       "    </tr>\n",
       "    <tr>\n",
       "      <th>60293</th>\n",
       "      <td>60293</td>\n",
       "      <td>2021-12</td>\n",
       "      <td>688363</td>\n",
       "      <td>华熙生物</td>\n",
       "      <td>285</td>\n",
       "    </tr>\n",
       "    <tr>\n",
       "      <th>60294</th>\n",
       "      <td>60294</td>\n",
       "      <td>2021-12</td>\n",
       "      <td>688396</td>\n",
       "      <td>华润微</td>\n",
       "      <td>285</td>\n",
       "    </tr>\n",
       "    <tr>\n",
       "      <th>60295</th>\n",
       "      <td>60295</td>\n",
       "      <td>2021-12</td>\n",
       "      <td>688561</td>\n",
       "      <td>奇安信-U</td>\n",
       "      <td>285</td>\n",
       "    </tr>\n",
       "    <tr>\n",
       "      <th>60296</th>\n",
       "      <td>60296</td>\n",
       "      <td>2021-12</td>\n",
       "      <td>688599</td>\n",
       "      <td>天合光能</td>\n",
       "      <td>285</td>\n",
       "    </tr>\n",
       "    <tr>\n",
       "      <th>60297</th>\n",
       "      <td>60297</td>\n",
       "      <td>2021-12</td>\n",
       "      <td>688981</td>\n",
       "      <td>中芯国际</td>\n",
       "      <td>285</td>\n",
       "    </tr>\n",
       "  </tbody>\n",
       "</table>\n",
       "<p>60298 rows × 5 columns</p>\n",
       "</div>"
      ],
      "text/plain": [
       "      Unnamed: 0 month_details   stock stock_name month\n",
       "0              0       2005-04  600177        雅戈尔    85\n",
       "1              1       2005-04  000709       河钢股份    85\n",
       "2              2       2005-04  600170       上海建工    85\n",
       "3              3       2005-04  600188       兖州煤业    85\n",
       "4              4       2005-04  600221       海航控股    85\n",
       "...          ...           ...     ...        ...   ...\n",
       "60293      60293       2021-12  688363       华熙生物   285\n",
       "60294      60294       2021-12  688396        华润微   285\n",
       "60295      60295       2021-12  688561      奇安信-U   285\n",
       "60296      60296       2021-12  688599       天合光能   285\n",
       "60297      60297       2021-12  688981       中芯国际   285\n",
       "\n",
       "[60298 rows x 5 columns]"
      ]
     },
     "execution_count": 7,
     "metadata": {},
     "output_type": "execute_result"
    }
   ],
   "source": [
    "hs300_monthly=pd.read_csv(r'../hs300_2005-2022/hs300_monthly.csv',dtype = object)\n",
    "hs300_monthly"
   ]
  },
  {
   "cell_type": "code",
   "execution_count": 25,
   "id": "eb9ef05f",
   "metadata": {
    "ExecuteTime": {
     "end_time": "2023-11-27T07:56:18.374996Z",
     "start_time": "2023-11-27T07:56:18.289243Z"
    }
   },
   "outputs": [
    {
     "data": {
      "text/html": [
       "<div>\n",
       "<style scoped>\n",
       "    .dataframe tbody tr th:only-of-type {\n",
       "        vertical-align: middle;\n",
       "    }\n",
       "\n",
       "    .dataframe tbody tr th {\n",
       "        vertical-align: top;\n",
       "    }\n",
       "\n",
       "    .dataframe thead th {\n",
       "        text-align: right;\n",
       "    }\n",
       "</style>\n",
       "<table border=\"1\" class=\"dataframe\">\n",
       "  <thead>\n",
       "    <tr style=\"text-align: right;\">\n",
       "      <th></th>\n",
       "      <th>Unnamed: 0</th>\n",
       "      <th>month</th>\n",
       "      <th>stock</th>\n",
       "      <th>stock_name</th>\n",
       "    </tr>\n",
       "  </thead>\n",
       "  <tbody>\n",
       "    <tr>\n",
       "      <th>0</th>\n",
       "      <td>0</td>\n",
       "      <td>85</td>\n",
       "      <td>['600177', '000709', '600170', '600188', '6002...</td>\n",
       "      <td>['雅戈尔', '河钢股份', '上海建工', '兖州煤业', '海航控股', '海油工程'...</td>\n",
       "    </tr>\n",
       "    <tr>\n",
       "      <th>1</th>\n",
       "      <td>1</td>\n",
       "      <td>86</td>\n",
       "      <td>['600177', '000709', '600170', '600188', '6002...</td>\n",
       "      <td>['雅戈尔', '河钢股份', '上海建工', '兖州煤业', '海航控股', '海油工程'...</td>\n",
       "    </tr>\n",
       "    <tr>\n",
       "      <th>2</th>\n",
       "      <td>2</td>\n",
       "      <td>87</td>\n",
       "      <td>['600177', '000709', '600170', '600188', '6002...</td>\n",
       "      <td>['雅戈尔', '河钢股份', '上海建工', '兖州煤业', '海航控股', '海油工程'...</td>\n",
       "    </tr>\n",
       "    <tr>\n",
       "      <th>3</th>\n",
       "      <td>3</td>\n",
       "      <td>88</td>\n",
       "      <td>['600177', '000709', '600170', '600188', '6002...</td>\n",
       "      <td>['雅戈尔', '河钢股份', '上海建工', '兖州煤业', '海航控股', '海油工程'...</td>\n",
       "    </tr>\n",
       "    <tr>\n",
       "      <th>4</th>\n",
       "      <td>4</td>\n",
       "      <td>89</td>\n",
       "      <td>['600177', '000709', '600170', '600188', '6002...</td>\n",
       "      <td>['雅戈尔', '河钢股份', '上海建工', '兖州煤业', '海航控股', '海油工程'...</td>\n",
       "    </tr>\n",
       "    <tr>\n",
       "      <th>...</th>\n",
       "      <td>...</td>\n",
       "      <td>...</td>\n",
       "      <td>...</td>\n",
       "      <td>...</td>\n",
       "    </tr>\n",
       "    <tr>\n",
       "      <th>196</th>\n",
       "      <td>196</td>\n",
       "      <td>281</td>\n",
       "      <td>['000656', '000728', '000860', '002153', '0023...</td>\n",
       "      <td>['金科股份', '国元证券', '顺鑫农业', '石基信息', '东山精密', '欧菲光'...</td>\n",
       "    </tr>\n",
       "    <tr>\n",
       "      <th>197</th>\n",
       "      <td>197</td>\n",
       "      <td>282</td>\n",
       "      <td>['000656', '000728', '000860', '002153', '0023...</td>\n",
       "      <td>['金科股份', '国元证券', '顺鑫农业', '石基信息', '东山精密', '欧菲光'...</td>\n",
       "    </tr>\n",
       "    <tr>\n",
       "      <th>198</th>\n",
       "      <td>198</td>\n",
       "      <td>283</td>\n",
       "      <td>['000656', '000728', '000860', '002153', '0023...</td>\n",
       "      <td>['金科股份', '国元证券', '顺鑫农业', '石基信息', '东山精密', '欧菲光'...</td>\n",
       "    </tr>\n",
       "    <tr>\n",
       "      <th>199</th>\n",
       "      <td>199</td>\n",
       "      <td>284</td>\n",
       "      <td>['000656', '000728', '000860', '002153', '0023...</td>\n",
       "      <td>['金科股份', '国元证券', '顺鑫农业', '石基信息', '东山精密', '欧菲光'...</td>\n",
       "    </tr>\n",
       "    <tr>\n",
       "      <th>200</th>\n",
       "      <td>200</td>\n",
       "      <td>285</td>\n",
       "      <td>['000001', '000002', '000063', '000066', '0000...</td>\n",
       "      <td>['平安银行', '万科', '中兴通讯', '中国长城', '华侨城', 'TCL科技',...</td>\n",
       "    </tr>\n",
       "  </tbody>\n",
       "</table>\n",
       "<p>201 rows × 4 columns</p>\n",
       "</div>"
      ],
      "text/plain": [
       "    Unnamed: 0 month                                              stock  \\\n",
       "0            0    85  ['600177', '000709', '600170', '600188', '6002...   \n",
       "1            1    86  ['600177', '000709', '600170', '600188', '6002...   \n",
       "2            2    87  ['600177', '000709', '600170', '600188', '6002...   \n",
       "3            3    88  ['600177', '000709', '600170', '600188', '6002...   \n",
       "4            4    89  ['600177', '000709', '600170', '600188', '6002...   \n",
       "..         ...   ...                                                ...   \n",
       "196        196   281  ['000656', '000728', '000860', '002153', '0023...   \n",
       "197        197   282  ['000656', '000728', '000860', '002153', '0023...   \n",
       "198        198   283  ['000656', '000728', '000860', '002153', '0023...   \n",
       "199        199   284  ['000656', '000728', '000860', '002153', '0023...   \n",
       "200        200   285  ['000001', '000002', '000063', '000066', '0000...   \n",
       "\n",
       "                                            stock_name  \n",
       "0    ['雅戈尔', '河钢股份', '上海建工', '兖州煤业', '海航控股', '海油工程'...  \n",
       "1    ['雅戈尔', '河钢股份', '上海建工', '兖州煤业', '海航控股', '海油工程'...  \n",
       "2    ['雅戈尔', '河钢股份', '上海建工', '兖州煤业', '海航控股', '海油工程'...  \n",
       "3    ['雅戈尔', '河钢股份', '上海建工', '兖州煤业', '海航控股', '海油工程'...  \n",
       "4    ['雅戈尔', '河钢股份', '上海建工', '兖州煤业', '海航控股', '海油工程'...  \n",
       "..                                                 ...  \n",
       "196  ['金科股份', '国元证券', '顺鑫农业', '石基信息', '东山精密', '欧菲光'...  \n",
       "197  ['金科股份', '国元证券', '顺鑫农业', '石基信息', '东山精密', '欧菲光'...  \n",
       "198  ['金科股份', '国元证券', '顺鑫农业', '石基信息', '东山精密', '欧菲光'...  \n",
       "199  ['金科股份', '国元证券', '顺鑫农业', '石基信息', '东山精密', '欧菲光'...  \n",
       "200  ['平安银行', '万科', '中兴通讯', '中国长城', '华侨城', 'TCL科技',...  \n",
       "\n",
       "[201 rows x 4 columns]"
      ]
     },
     "execution_count": 25,
     "metadata": {},
     "output_type": "execute_result"
    }
   ],
   "source": [
    "hs300=pd.read_csv(r'../hs300_2005-2022/hs300.csv',dtype = object)\n",
    "hs300"
   ]
  },
  {
   "cell_type": "code",
   "execution_count": 26,
   "id": "4d4f5e90",
   "metadata": {
    "ExecuteTime": {
     "end_time": "2023-11-27T07:56:55.207709Z",
     "start_time": "2023-11-27T07:56:54.087658Z"
    }
   },
   "outputs": [],
   "source": [
    "from ast import literal_eval\n",
    "hs300['stock']=hs300['stock'].apply(literal_eval)\n",
    "hs300['stock_name']=hs300['stock_name'].apply(literal_eval)"
   ]
  },
  {
   "cell_type": "code",
   "execution_count": 33,
   "id": "d39945b0",
   "metadata": {
    "ExecuteTime": {
     "end_time": "2023-11-27T07:59:40.946288Z",
     "start_time": "2023-11-27T07:59:40.860447Z"
    }
   },
   "outputs": [],
   "source": [
    "hs300['stock']=hs300['stock'].apply(lambda x: list(set(x)))\n",
    "hs300['stock_name']=hs300['stock_name'].apply(lambda x: list(set(x)))"
   ]
  },
  {
   "cell_type": "code",
   "execution_count": 39,
   "id": "b7705568",
   "metadata": {
    "ExecuteTime": {
     "end_time": "2023-11-27T08:03:15.371319Z",
     "start_time": "2023-11-27T08:03:15.358897Z"
    }
   },
   "outputs": [
    {
     "name": "stdout",
     "output_type": "stream",
     "text": [
      "56\n",
      "298\n"
     ]
    }
   ],
   "source": [
    "for i in range(len(hs300)):\n",
    "    if len(hs300['stock'][i])!=300:\n",
    "        print(i)\n",
    "        print(len(hs300['stock'][i]))"
   ]
  }
 ],
 "metadata": {
  "kernelspec": {
   "display_name": "Python 3 (ipykernel)",
   "language": "python",
   "name": "python3"
  },
  "language_info": {
   "codemirror_mode": {
    "name": "ipython",
    "version": 3
   },
   "file_extension": ".py",
   "mimetype": "text/x-python",
   "name": "python",
   "nbconvert_exporter": "python",
   "pygments_lexer": "ipython3",
   "version": "3.9.13"
  },
  "toc": {
   "base_numbering": 1,
   "nav_menu": {},
   "number_sections": true,
   "sideBar": true,
   "skip_h1_title": false,
   "title_cell": "Table of Contents",
   "title_sidebar": "Contents",
   "toc_cell": false,
   "toc_position": {},
   "toc_section_display": true,
   "toc_window_display": false
  },
  "varInspector": {
   "cols": {
    "lenName": 16,
    "lenType": 16,
    "lenVar": 40
   },
   "kernels_config": {
    "python": {
     "delete_cmd_postfix": "",
     "delete_cmd_prefix": "del ",
     "library": "var_list.py",
     "varRefreshCmd": "print(var_dic_list())"
    },
    "r": {
     "delete_cmd_postfix": ") ",
     "delete_cmd_prefix": "rm(",
     "library": "var_list.r",
     "varRefreshCmd": "cat(var_dic_list()) "
    }
   },
   "types_to_exclude": [
    "module",
    "function",
    "builtin_function_or_method",
    "instance",
    "_Feature"
   ],
   "window_display": false
  }
 },
 "nbformat": 4,
 "nbformat_minor": 5
}
