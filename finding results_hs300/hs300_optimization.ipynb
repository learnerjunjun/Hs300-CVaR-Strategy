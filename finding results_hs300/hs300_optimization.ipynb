{
 "cells": [
  {
   "cell_type": "code",
   "execution_count": 2,
   "id": "4f37c57e",
   "metadata": {
    "ExecuteTime": {
     "end_time": "2023-12-16T10:19:59.408333Z",
     "start_time": "2023-12-16T10:19:58.734902Z"
    }
   },
   "outputs": [],
   "source": [
    "#导入包\n",
    "import pandas as pd\n",
    "import numpy as np"
   ]
  },
  {
   "cell_type": "code",
   "execution_count": 7,
   "id": "b06e4853",
   "metadata": {
    "ExecuteTime": {
     "end_time": "2023-11-27T07:51:15.024576Z",
     "start_time": "2023-11-27T07:51:14.861452Z"
    }
   },
   "outputs": [
    {
     "data": {
      "text/html": [
       "<div>\n",
       "<style scoped>\n",
       "    .dataframe tbody tr th:only-of-type {\n",
       "        vertical-align: middle;\n",
       "    }\n",
       "\n",
       "    .dataframe tbody tr th {\n",
       "        vertical-align: top;\n",
       "    }\n",
       "\n",
       "    .dataframe thead th {\n",
       "        text-align: right;\n",
       "    }\n",
       "</style>\n",
       "<table border=\"1\" class=\"dataframe\">\n",
       "  <thead>\n",
       "    <tr style=\"text-align: right;\">\n",
       "      <th></th>\n",
       "      <th>Unnamed: 0</th>\n",
       "      <th>month_details</th>\n",
       "      <th>stock</th>\n",
       "      <th>stock_name</th>\n",
       "      <th>month</th>\n",
       "    </tr>\n",
       "  </thead>\n",
       "  <tbody>\n",
       "    <tr>\n",
       "      <th>0</th>\n",
       "      <td>0</td>\n",
       "      <td>2005-04</td>\n",
       "      <td>600177</td>\n",
       "      <td>雅戈尔</td>\n",
       "      <td>85</td>\n",
       "    </tr>\n",
       "    <tr>\n",
       "      <th>1</th>\n",
       "      <td>1</td>\n",
       "      <td>2005-04</td>\n",
       "      <td>000709</td>\n",
       "      <td>河钢股份</td>\n",
       "      <td>85</td>\n",
       "    </tr>\n",
       "    <tr>\n",
       "      <th>2</th>\n",
       "      <td>2</td>\n",
       "      <td>2005-04</td>\n",
       "      <td>600170</td>\n",
       "      <td>上海建工</td>\n",
       "      <td>85</td>\n",
       "    </tr>\n",
       "    <tr>\n",
       "      <th>3</th>\n",
       "      <td>3</td>\n",
       "      <td>2005-04</td>\n",
       "      <td>600188</td>\n",
       "      <td>兖州煤业</td>\n",
       "      <td>85</td>\n",
       "    </tr>\n",
       "    <tr>\n",
       "      <th>4</th>\n",
       "      <td>4</td>\n",
       "      <td>2005-04</td>\n",
       "      <td>600221</td>\n",
       "      <td>海航控股</td>\n",
       "      <td>85</td>\n",
       "    </tr>\n",
       "    <tr>\n",
       "      <th>...</th>\n",
       "      <td>...</td>\n",
       "      <td>...</td>\n",
       "      <td>...</td>\n",
       "      <td>...</td>\n",
       "      <td>...</td>\n",
       "    </tr>\n",
       "    <tr>\n",
       "      <th>60293</th>\n",
       "      <td>60293</td>\n",
       "      <td>2021-12</td>\n",
       "      <td>688363</td>\n",
       "      <td>华熙生物</td>\n",
       "      <td>285</td>\n",
       "    </tr>\n",
       "    <tr>\n",
       "      <th>60294</th>\n",
       "      <td>60294</td>\n",
       "      <td>2021-12</td>\n",
       "      <td>688396</td>\n",
       "      <td>华润微</td>\n",
       "      <td>285</td>\n",
       "    </tr>\n",
       "    <tr>\n",
       "      <th>60295</th>\n",
       "      <td>60295</td>\n",
       "      <td>2021-12</td>\n",
       "      <td>688561</td>\n",
       "      <td>奇安信-U</td>\n",
       "      <td>285</td>\n",
       "    </tr>\n",
       "    <tr>\n",
       "      <th>60296</th>\n",
       "      <td>60296</td>\n",
       "      <td>2021-12</td>\n",
       "      <td>688599</td>\n",
       "      <td>天合光能</td>\n",
       "      <td>285</td>\n",
       "    </tr>\n",
       "    <tr>\n",
       "      <th>60297</th>\n",
       "      <td>60297</td>\n",
       "      <td>2021-12</td>\n",
       "      <td>688981</td>\n",
       "      <td>中芯国际</td>\n",
       "      <td>285</td>\n",
       "    </tr>\n",
       "  </tbody>\n",
       "</table>\n",
       "<p>60298 rows × 5 columns</p>\n",
       "</div>"
      ],
      "text/plain": [
       "      Unnamed: 0 month_details   stock stock_name month\n",
       "0              0       2005-04  600177        雅戈尔    85\n",
       "1              1       2005-04  000709       河钢股份    85\n",
       "2              2       2005-04  600170       上海建工    85\n",
       "3              3       2005-04  600188       兖州煤业    85\n",
       "4              4       2005-04  600221       海航控股    85\n",
       "...          ...           ...     ...        ...   ...\n",
       "60293      60293       2021-12  688363       华熙生物   285\n",
       "60294      60294       2021-12  688396        华润微   285\n",
       "60295      60295       2021-12  688561      奇安信-U   285\n",
       "60296      60296       2021-12  688599       天合光能   285\n",
       "60297      60297       2021-12  688981       中芯国际   285\n",
       "\n",
       "[60298 rows x 5 columns]"
      ]
     },
     "execution_count": 7,
     "metadata": {},
     "output_type": "execute_result"
    }
   ],
   "source": [
    "hs300_monthly=pd.read_csv(r'../hs300_2005-2022/hs300_monthly.csv',dtype = object)\n",
    "hs300_monthly"
   ]
  },
  {
   "cell_type": "code",
   "execution_count": 25,
   "id": "eb9ef05f",
   "metadata": {
    "ExecuteTime": {
     "end_time": "2023-11-27T07:56:18.374996Z",
     "start_time": "2023-11-27T07:56:18.289243Z"
    }
   },
   "outputs": [
    {
     "data": {
      "text/html": [
       "<div>\n",
       "<style scoped>\n",
       "    .dataframe tbody tr th:only-of-type {\n",
       "        vertical-align: middle;\n",
       "    }\n",
       "\n",
       "    .dataframe tbody tr th {\n",
       "        vertical-align: top;\n",
       "    }\n",
       "\n",
       "    .dataframe thead th {\n",
       "        text-align: right;\n",
       "    }\n",
       "</style>\n",
       "<table border=\"1\" class=\"dataframe\">\n",
       "  <thead>\n",
       "    <tr style=\"text-align: right;\">\n",
       "      <th></th>\n",
       "      <th>Unnamed: 0</th>\n",
       "      <th>month</th>\n",
       "      <th>stock</th>\n",
       "      <th>stock_name</th>\n",
       "    </tr>\n",
       "  </thead>\n",
       "  <tbody>\n",
       "    <tr>\n",
       "      <th>0</th>\n",
       "      <td>0</td>\n",
       "      <td>85</td>\n",
       "      <td>['600177', '000709', '600170', '600188', '6002...</td>\n",
       "      <td>['雅戈尔', '河钢股份', '上海建工', '兖州煤业', '海航控股', '海油工程'...</td>\n",
       "    </tr>\n",
       "    <tr>\n",
       "      <th>1</th>\n",
       "      <td>1</td>\n",
       "      <td>86</td>\n",
       "      <td>['600177', '000709', '600170', '600188', '6002...</td>\n",
       "      <td>['雅戈尔', '河钢股份', '上海建工', '兖州煤业', '海航控股', '海油工程'...</td>\n",
       "    </tr>\n",
       "    <tr>\n",
       "      <th>2</th>\n",
       "      <td>2</td>\n",
       "      <td>87</td>\n",
       "      <td>['600177', '000709', '600170', '600188', '6002...</td>\n",
       "      <td>['雅戈尔', '河钢股份', '上海建工', '兖州煤业', '海航控股', '海油工程'...</td>\n",
       "    </tr>\n",
       "    <tr>\n",
       "      <th>3</th>\n",
       "      <td>3</td>\n",
       "      <td>88</td>\n",
       "      <td>['600177', '000709', '600170', '600188', '6002...</td>\n",
       "      <td>['雅戈尔', '河钢股份', '上海建工', '兖州煤业', '海航控股', '海油工程'...</td>\n",
       "    </tr>\n",
       "    <tr>\n",
       "      <th>4</th>\n",
       "      <td>4</td>\n",
       "      <td>89</td>\n",
       "      <td>['600177', '000709', '600170', '600188', '6002...</td>\n",
       "      <td>['雅戈尔', '河钢股份', '上海建工', '兖州煤业', '海航控股', '海油工程'...</td>\n",
       "    </tr>\n",
       "    <tr>\n",
       "      <th>...</th>\n",
       "      <td>...</td>\n",
       "      <td>...</td>\n",
       "      <td>...</td>\n",
       "      <td>...</td>\n",
       "    </tr>\n",
       "    <tr>\n",
       "      <th>196</th>\n",
       "      <td>196</td>\n",
       "      <td>281</td>\n",
       "      <td>['000656', '000728', '000860', '002153', '0023...</td>\n",
       "      <td>['金科股份', '国元证券', '顺鑫农业', '石基信息', '东山精密', '欧菲光'...</td>\n",
       "    </tr>\n",
       "    <tr>\n",
       "      <th>197</th>\n",
       "      <td>197</td>\n",
       "      <td>282</td>\n",
       "      <td>['000656', '000728', '000860', '002153', '0023...</td>\n",
       "      <td>['金科股份', '国元证券', '顺鑫农业', '石基信息', '东山精密', '欧菲光'...</td>\n",
       "    </tr>\n",
       "    <tr>\n",
       "      <th>198</th>\n",
       "      <td>198</td>\n",
       "      <td>283</td>\n",
       "      <td>['000656', '000728', '000860', '002153', '0023...</td>\n",
       "      <td>['金科股份', '国元证券', '顺鑫农业', '石基信息', '东山精密', '欧菲光'...</td>\n",
       "    </tr>\n",
       "    <tr>\n",
       "      <th>199</th>\n",
       "      <td>199</td>\n",
       "      <td>284</td>\n",
       "      <td>['000656', '000728', '000860', '002153', '0023...</td>\n",
       "      <td>['金科股份', '国元证券', '顺鑫农业', '石基信息', '东山精密', '欧菲光'...</td>\n",
       "    </tr>\n",
       "    <tr>\n",
       "      <th>200</th>\n",
       "      <td>200</td>\n",
       "      <td>285</td>\n",
       "      <td>['000001', '000002', '000063', '000066', '0000...</td>\n",
       "      <td>['平安银行', '万科', '中兴通讯', '中国长城', '华侨城', 'TCL科技',...</td>\n",
       "    </tr>\n",
       "  </tbody>\n",
       "</table>\n",
       "<p>201 rows × 4 columns</p>\n",
       "</div>"
      ],
      "text/plain": [
       "    Unnamed: 0 month                                              stock  \\\n",
       "0            0    85  ['600177', '000709', '600170', '600188', '6002...   \n",
       "1            1    86  ['600177', '000709', '600170', '600188', '6002...   \n",
       "2            2    87  ['600177', '000709', '600170', '600188', '6002...   \n",
       "3            3    88  ['600177', '000709', '600170', '600188', '6002...   \n",
       "4            4    89  ['600177', '000709', '600170', '600188', '6002...   \n",
       "..         ...   ...                                                ...   \n",
       "196        196   281  ['000656', '000728', '000860', '002153', '0023...   \n",
       "197        197   282  ['000656', '000728', '000860', '002153', '0023...   \n",
       "198        198   283  ['000656', '000728', '000860', '002153', '0023...   \n",
       "199        199   284  ['000656', '000728', '000860', '002153', '0023...   \n",
       "200        200   285  ['000001', '000002', '000063', '000066', '0000...   \n",
       "\n",
       "                                            stock_name  \n",
       "0    ['雅戈尔', '河钢股份', '上海建工', '兖州煤业', '海航控股', '海油工程'...  \n",
       "1    ['雅戈尔', '河钢股份', '上海建工', '兖州煤业', '海航控股', '海油工程'...  \n",
       "2    ['雅戈尔', '河钢股份', '上海建工', '兖州煤业', '海航控股', '海油工程'...  \n",
       "3    ['雅戈尔', '河钢股份', '上海建工', '兖州煤业', '海航控股', '海油工程'...  \n",
       "4    ['雅戈尔', '河钢股份', '上海建工', '兖州煤业', '海航控股', '海油工程'...  \n",
       "..                                                 ...  \n",
       "196  ['金科股份', '国元证券', '顺鑫农业', '石基信息', '东山精密', '欧菲光'...  \n",
       "197  ['金科股份', '国元证券', '顺鑫农业', '石基信息', '东山精密', '欧菲光'...  \n",
       "198  ['金科股份', '国元证券', '顺鑫农业', '石基信息', '东山精密', '欧菲光'...  \n",
       "199  ['金科股份', '国元证券', '顺鑫农业', '石基信息', '东山精密', '欧菲光'...  \n",
       "200  ['平安银行', '万科', '中兴通讯', '中国长城', '华侨城', 'TCL科技',...  \n",
       "\n",
       "[201 rows x 4 columns]"
      ]
     },
     "execution_count": 25,
     "metadata": {},
     "output_type": "execute_result"
    }
   ],
   "source": [
    "hs300=pd.read_csv(r'../hs300_2005-2022/hs300.csv',dtype = object)\n",
    "hs300"
   ]
  },
  {
   "cell_type": "code",
   "execution_count": 26,
   "id": "4d4f5e90",
   "metadata": {
    "ExecuteTime": {
     "end_time": "2023-11-27T07:56:55.207709Z",
     "start_time": "2023-11-27T07:56:54.087658Z"
    }
   },
   "outputs": [],
   "source": [
    "from ast import literal_eval\n",
    "hs300['stock']=hs300['stock'].apply(literal_eval)\n",
    "hs300['stock_name']=hs300['stock_name'].apply(literal_eval)"
   ]
  },
  {
   "cell_type": "code",
   "execution_count": 33,
   "id": "d39945b0",
   "metadata": {
    "ExecuteTime": {
     "end_time": "2023-11-27T07:59:40.946288Z",
     "start_time": "2023-11-27T07:59:40.860447Z"
    }
   },
   "outputs": [],
   "source": [
    "hs300['stock']=hs300['stock'].apply(lambda x: list(set(x)))\n",
    "hs300['stock_name']=hs300['stock_name'].apply(lambda x: list(set(x)))"
   ]
  },
  {
   "cell_type": "code",
   "execution_count": 39,
   "id": "b7705568",
   "metadata": {
    "ExecuteTime": {
     "end_time": "2023-11-27T08:03:15.371319Z",
     "start_time": "2023-11-27T08:03:15.358897Z"
    }
   },
   "outputs": [
    {
     "name": "stdout",
     "output_type": "stream",
     "text": [
      "56\n",
      "298\n"
     ]
    }
   ],
   "source": [
    "for i in range(len(hs300)):\n",
    "    if len(hs300['stock'][i])!=300:\n",
    "        print(i)\n",
    "        print(len(hs300['stock'][i]))"
   ]
  },
  {
   "cell_type": "code",
   "execution_count": 3,
   "id": "5733eeab",
   "metadata": {
    "ExecuteTime": {
     "end_time": "2023-12-16T10:20:03.691612Z",
     "start_time": "2023-12-16T10:20:02.371105Z"
    }
   },
   "outputs": [
    {
     "data": {
      "text/html": [
       "<div>\n",
       "<style scoped>\n",
       "    .dataframe tbody tr th:only-of-type {\n",
       "        vertical-align: middle;\n",
       "    }\n",
       "\n",
       "    .dataframe tbody tr th {\n",
       "        vertical-align: top;\n",
       "    }\n",
       "\n",
       "    .dataframe thead th {\n",
       "        text-align: right;\n",
       "    }\n",
       "</style>\n",
       "<table border=\"1\" class=\"dataframe\">\n",
       "  <thead>\n",
       "    <tr style=\"text-align: right;\">\n",
       "      <th></th>\n",
       "      <th>Column</th>\n",
       "      <th>Annual Return</th>\n",
       "      <th>Max Drawdown</th>\n",
       "      <th>Return Drawdown Ratio</th>\n",
       "      <th>Annual Volatility</th>\n",
       "      <th>Sharpe Ratio</th>\n",
       "      <th>Information Ratio</th>\n",
       "    </tr>\n",
       "  </thead>\n",
       "  <tbody>\n",
       "    <tr>\n",
       "      <th>0</th>\n",
       "      <td>return_data_combined_coef</td>\n",
       "      <td>0.125785</td>\n",
       "      <td>0.496333</td>\n",
       "      <td>0.253428</td>\n",
       "      <td>0.305710</td>\n",
       "      <td>0.411451</td>\n",
       "      <td>0.294426</td>\n",
       "    </tr>\n",
       "    <tr>\n",
       "      <th>1</th>\n",
       "      <td>return_data_combined_cvar_coef</td>\n",
       "      <td>0.118664</td>\n",
       "      <td>0.596019</td>\n",
       "      <td>0.199094</td>\n",
       "      <td>0.312748</td>\n",
       "      <td>0.379424</td>\n",
       "      <td>0.216192</td>\n",
       "    </tr>\n",
       "    <tr>\n",
       "      <th>2</th>\n",
       "      <td>return_data_combined_ic</td>\n",
       "      <td>0.118217</td>\n",
       "      <td>0.500951</td>\n",
       "      <td>0.235985</td>\n",
       "      <td>0.296039</td>\n",
       "      <td>0.399330</td>\n",
       "      <td>0.293861</td>\n",
       "    </tr>\n",
       "    <tr>\n",
       "      <th>3</th>\n",
       "      <td>return_data_combined_cvar_ic</td>\n",
       "      <td>0.100320</td>\n",
       "      <td>0.628467</td>\n",
       "      <td>0.159626</td>\n",
       "      <td>0.333350</td>\n",
       "      <td>0.300945</td>\n",
       "      <td>0.154197</td>\n",
       "    </tr>\n",
       "    <tr>\n",
       "      <th>4</th>\n",
       "      <td>return_data_combined_corr</td>\n",
       "      <td>0.309095</td>\n",
       "      <td>0.273206</td>\n",
       "      <td>1.131361</td>\n",
       "      <td>0.294448</td>\n",
       "      <td>1.049743</td>\n",
       "      <td>1.456851</td>\n",
       "    </tr>\n",
       "    <tr>\n",
       "      <th>5</th>\n",
       "      <td>return_data_combined_cvar_corr</td>\n",
       "      <td>0.297102</td>\n",
       "      <td>0.337096</td>\n",
       "      <td>0.881356</td>\n",
       "      <td>0.300516</td>\n",
       "      <td>0.988638</td>\n",
       "      <td>1.284757</td>\n",
       "    </tr>\n",
       "    <tr>\n",
       "      <th>6</th>\n",
       "      <td>return_data_combined_hs300</td>\n",
       "      <td>0.068019</td>\n",
       "      <td>0.405584</td>\n",
       "      <td>0.167707</td>\n",
       "      <td>0.228143</td>\n",
       "      <td>0.298142</td>\n",
       "      <td>0.000000</td>\n",
       "    </tr>\n",
       "  </tbody>\n",
       "</table>\n",
       "</div>"
      ],
      "text/plain": [
       "                           Column  Annual Return  Max Drawdown  \\\n",
       "0       return_data_combined_coef       0.125785      0.496333   \n",
       "1  return_data_combined_cvar_coef       0.118664      0.596019   \n",
       "2         return_data_combined_ic       0.118217      0.500951   \n",
       "3    return_data_combined_cvar_ic       0.100320      0.628467   \n",
       "4       return_data_combined_corr       0.309095      0.273206   \n",
       "5  return_data_combined_cvar_corr       0.297102      0.337096   \n",
       "6      return_data_combined_hs300       0.068019      0.405584   \n",
       "\n",
       "   Return Drawdown Ratio  Annual Volatility  Sharpe Ratio  Information Ratio  \n",
       "0               0.253428           0.305710      0.411451           0.294426  \n",
       "1               0.199094           0.312748      0.379424           0.216192  \n",
       "2               0.235985           0.296039      0.399330           0.293861  \n",
       "3               0.159626           0.333350      0.300945           0.154197  \n",
       "4               1.131361           0.294448      1.049743           1.456851  \n",
       "5               0.881356           0.300516      0.988638           1.284757  \n",
       "6               0.167707           0.228143      0.298142           0.000000  "
      ]
     },
     "execution_count": 3,
     "metadata": {},
     "output_type": "execute_result"
    }
   ],
   "source": [
    "results_df = pd.read_excel(r'./results/evaluation results.xlsx')\n",
    "results_df"
   ]
  },
  {
   "cell_type": "code",
   "execution_count": 4,
   "id": "5c63ba96",
   "metadata": {
    "ExecuteTime": {
     "end_time": "2023-12-16T10:20:04.624693Z",
     "start_time": "2023-12-16T10:20:04.605147Z"
    }
   },
   "outputs": [],
   "source": [
    "# Rows to subtract: 2nd from 1st, 4th from 3rd, and 6th from 5th\n",
    "rows_to_subtract = [1, 3, 5]\n",
    "# Columns to exclude from subtraction\n",
    "columns_to_exclude = ['Column']  # Replace 'Column' with the actual name of the first column\n",
    "# Get columns except the ones to exclude\n",
    "columns_for_subtraction = [col for col in results_df.columns if col not in columns_to_exclude]\n",
    "# Perform row-wise subtraction excluding the specified columns\n",
    "results_evaluation  = results_df[columns_for_subtraction].diff().iloc[rows_to_subtract]"
   ]
  },
  {
   "cell_type": "code",
   "execution_count": 9,
   "id": "3829a7cd",
   "metadata": {
    "ExecuteTime": {
     "end_time": "2023-12-16T10:22:01.552266Z",
     "start_time": "2023-12-16T10:22:01.523933Z"
    }
   },
   "outputs": [
    {
     "data": {
      "text/html": [
       "<div>\n",
       "<style scoped>\n",
       "    .dataframe tbody tr th:only-of-type {\n",
       "        vertical-align: middle;\n",
       "    }\n",
       "\n",
       "    .dataframe tbody tr th {\n",
       "        vertical-align: top;\n",
       "    }\n",
       "\n",
       "    .dataframe thead th {\n",
       "        text-align: right;\n",
       "    }\n",
       "</style>\n",
       "<table border=\"1\" class=\"dataframe\">\n",
       "  <thead>\n",
       "    <tr style=\"text-align: right;\">\n",
       "      <th></th>\n",
       "      <th>Annual Return</th>\n",
       "      <th>Max Drawdown</th>\n",
       "      <th>Return Drawdown Ratio</th>\n",
       "      <th>Annual Volatility</th>\n",
       "      <th>Sharpe Ratio</th>\n",
       "      <th>Information Ratio</th>\n",
       "    </tr>\n",
       "  </thead>\n",
       "  <tbody>\n",
       "    <tr>\n",
       "      <th>1</th>\n",
       "      <td>-0.007121</td>\n",
       "      <td>0.099686</td>\n",
       "      <td>-0.054334</td>\n",
       "      <td>0.007038</td>\n",
       "      <td>-0.032027</td>\n",
       "      <td>-0.078235</td>\n",
       "    </tr>\n",
       "    <tr>\n",
       "      <th>3</th>\n",
       "      <td>-0.017897</td>\n",
       "      <td>0.127515</td>\n",
       "      <td>-0.076359</td>\n",
       "      <td>0.037311</td>\n",
       "      <td>-0.098385</td>\n",
       "      <td>-0.139664</td>\n",
       "    </tr>\n",
       "    <tr>\n",
       "      <th>5</th>\n",
       "      <td>-0.011993</td>\n",
       "      <td>0.063890</td>\n",
       "      <td>-0.250005</td>\n",
       "      <td>0.006068</td>\n",
       "      <td>-0.061106</td>\n",
       "      <td>-0.172094</td>\n",
       "    </tr>\n",
       "  </tbody>\n",
       "</table>\n",
       "</div>"
      ],
      "text/plain": [
       "   Annual Return  Max Drawdown  Return Drawdown Ratio  Annual Volatility  \\\n",
       "1      -0.007121      0.099686              -0.054334           0.007038   \n",
       "3      -0.017897      0.127515              -0.076359           0.037311   \n",
       "5      -0.011993      0.063890              -0.250005           0.006068   \n",
       "\n",
       "   Sharpe Ratio  Information Ratio  \n",
       "1     -0.032027          -0.078235  \n",
       "3     -0.098385          -0.139664  \n",
       "5     -0.061106          -0.172094  "
      ]
     },
     "execution_count": 9,
     "metadata": {},
     "output_type": "execute_result"
    }
   ],
   "source": [
    "results_evaluation"
   ]
  },
  {
   "cell_type": "code",
   "execution_count": 10,
   "id": "95741dda",
   "metadata": {
    "ExecuteTime": {
     "end_time": "2023-12-16T10:22:06.530011Z",
     "start_time": "2023-12-16T10:22:06.521634Z"
    }
   },
   "outputs": [
    {
     "data": {
      "text/plain": [
       "-0.0370111186457911"
      ]
     },
     "execution_count": 10,
     "metadata": {},
     "output_type": "execute_result"
    }
   ],
   "source": [
    "target_value = results_evaluation.iloc[:, 0].sum()  # 返回第一列的值的总和\n",
    "target_value"
   ]
  },
  {
   "cell_type": "code",
   "execution_count": null,
   "id": "250a10ff",
   "metadata": {},
   "outputs": [],
   "source": []
  }
 ],
 "metadata": {
  "kernelspec": {
   "display_name": "Python 3 (ipykernel)",
   "language": "python",
   "name": "python3"
  },
  "language_info": {
   "codemirror_mode": {
    "name": "ipython",
    "version": 3
   },
   "file_extension": ".py",
   "mimetype": "text/x-python",
   "name": "python",
   "nbconvert_exporter": "python",
   "pygments_lexer": "ipython3",
   "version": "3.9.13"
  },
  "toc": {
   "base_numbering": 1,
   "nav_menu": {},
   "number_sections": true,
   "sideBar": true,
   "skip_h1_title": false,
   "title_cell": "Table of Contents",
   "title_sidebar": "Contents",
   "toc_cell": false,
   "toc_position": {},
   "toc_section_display": true,
   "toc_window_display": false
  },
  "varInspector": {
   "cols": {
    "lenName": 16,
    "lenType": 16,
    "lenVar": 40
   },
   "kernels_config": {
    "python": {
     "delete_cmd_postfix": "",
     "delete_cmd_prefix": "del ",
     "library": "var_list.py",
     "varRefreshCmd": "print(var_dic_list())"
    },
    "r": {
     "delete_cmd_postfix": ") ",
     "delete_cmd_prefix": "rm(",
     "library": "var_list.r",
     "varRefreshCmd": "cat(var_dic_list()) "
    }
   },
   "types_to_exclude": [
    "module",
    "function",
    "builtin_function_or_method",
    "instance",
    "_Feature"
   ],
   "window_display": false
  }
 },
 "nbformat": 4,
 "nbformat_minor": 5
}
