{
 "cells": [
  {
   "cell_type": "code",
   "execution_count": 2,
   "id": "7db12064",
   "metadata": {
    "ExecuteTime": {
     "end_time": "2023-11-25T05:59:44.548373Z",
     "start_time": "2023-11-25T05:59:43.787684Z"
    }
   },
   "outputs": [],
   "source": [
    "#导入包\n",
    "import numpy as np\n",
    "import pandas as pd"
   ]
  },
  {
   "cell_type": "code",
   "execution_count": 4,
   "id": "f378c078",
   "metadata": {
    "ExecuteTime": {
     "end_time": "2023-11-25T06:01:59.919373Z",
     "start_time": "2023-11-25T06:01:01.214576Z"
    }
   },
   "outputs": [],
   "source": [
    "#数据导入\n",
    "path_data = '../data/csv_01/'\n",
    "start_date = 82\n",
    "end_date = 294\n",
    "period_train=range(start_date,end_date+1)\n",
    "for i_month in period_train:\n",
    "    #-- load csv\n",
    "    file_name = path_data + str(i_month) + '.csv'\n",
    "    data_curr_month = pd.read_csv(file_name, header = 0)#设置表头\n",
    "    n_stock = data_curr_month.shape[0]\n",
    "    #-- remove nan\n",
    "    data_curr_month = data_curr_month.dropna(axis=0)\n",
    "    #-- merge\n",
    "    if i_month == period_train[0]: #-- first month\n",
    "        data_in_sample = data_curr_month\n",
    "    else:\n",
    "        data_in_sample = pd.concat((data_in_sample,data_curr_month), axis=0)"
   ]
  },
  {
   "cell_type": "code",
   "execution_count": 4,
   "id": "2e818c9a",
   "metadata": {
    "ExecuteTime": {
     "end_time": "2023-11-16T11:46:09.728305800Z",
     "start_time": "2023-11-16T11:46:09.544290700Z"
    },
    "scrolled": false
   },
   "outputs": [
    {
     "data": {
      "text/html": [
       "<div>\n",
       "<style scoped>\n",
       "    .dataframe tbody tr th:only-of-type {\n",
       "        vertical-align: middle;\n",
       "    }\n",
       "\n",
       "    .dataframe tbody tr th {\n",
       "        vertical-align: top;\n",
       "    }\n",
       "\n",
       "    .dataframe thead th {\n",
       "        text-align: right;\n",
       "    }\n",
       "</style>\n",
       "<table border=\"1\" class=\"dataframe\">\n",
       "  <thead>\n",
       "    <tr style=\"text-align: right;\">\n",
       "      <th></th>\n",
       "      <th>month</th>\n",
       "      <th>stock</th>\n",
       "      <th>status</th>\n",
       "      <th>return</th>\n",
       "    </tr>\n",
       "  </thead>\n",
       "  <tbody>\n",
       "    <tr>\n",
       "      <th>0</th>\n",
       "      <td>82</td>\n",
       "      <td>000001.SZ</td>\n",
       "      <td>1</td>\n",
       "      <td>-0.032765</td>\n",
       "    </tr>\n",
       "    <tr>\n",
       "      <th>0</th>\n",
       "      <td>83</td>\n",
       "      <td>000001.SZ</td>\n",
       "      <td>1</td>\n",
       "      <td>-0.069216</td>\n",
       "    </tr>\n",
       "    <tr>\n",
       "      <th>0</th>\n",
       "      <td>84</td>\n",
       "      <td>000001.SZ</td>\n",
       "      <td>1</td>\n",
       "      <td>0.158012</td>\n",
       "    </tr>\n",
       "    <tr>\n",
       "      <th>0</th>\n",
       "      <td>85</td>\n",
       "      <td>000001.SZ</td>\n",
       "      <td>1</td>\n",
       "      <td>0.055810</td>\n",
       "    </tr>\n",
       "    <tr>\n",
       "      <th>0</th>\n",
       "      <td>86</td>\n",
       "      <td>000001.SZ</td>\n",
       "      <td>1</td>\n",
       "      <td>-0.053113</td>\n",
       "    </tr>\n",
       "    <tr>\n",
       "      <th>...</th>\n",
       "      <td>...</td>\n",
       "      <td>...</td>\n",
       "      <td>...</td>\n",
       "      <td>...</td>\n",
       "    </tr>\n",
       "    <tr>\n",
       "      <th>2896</th>\n",
       "      <td>96</td>\n",
       "      <td>T00018.SH</td>\n",
       "      <td>1</td>\n",
       "      <td>-0.064110</td>\n",
       "    </tr>\n",
       "    <tr>\n",
       "      <th>2896</th>\n",
       "      <td>97</td>\n",
       "      <td>T00018.SH</td>\n",
       "      <td>1</td>\n",
       "      <td>0.249479</td>\n",
       "    </tr>\n",
       "    <tr>\n",
       "      <th>2896</th>\n",
       "      <td>99</td>\n",
       "      <td>T00018.SH</td>\n",
       "      <td>1</td>\n",
       "      <td>0.071460</td>\n",
       "    </tr>\n",
       "    <tr>\n",
       "      <th>2896</th>\n",
       "      <td>100</td>\n",
       "      <td>T00018.SH</td>\n",
       "      <td>1</td>\n",
       "      <td>-0.065915</td>\n",
       "    </tr>\n",
       "    <tr>\n",
       "      <th>2896</th>\n",
       "      <td>101</td>\n",
       "      <td>T00018.SH</td>\n",
       "      <td>1</td>\n",
       "      <td>-0.084593</td>\n",
       "    </tr>\n",
       "  </tbody>\n",
       "</table>\n",
       "<p>512422 rows × 4 columns</p>\n",
       "</div>"
      ],
      "text/plain": [
       "      month      stock  status    return\n",
       "0        82  000001.SZ       1 -0.032765\n",
       "0        83  000001.SZ       1 -0.069216\n",
       "0        84  000001.SZ       1  0.158012\n",
       "0        85  000001.SZ       1  0.055810\n",
       "0        86  000001.SZ       1 -0.053113\n",
       "...     ...        ...     ...       ...\n",
       "2896     96  T00018.SH       1 -0.064110\n",
       "2896     97  T00018.SH       1  0.249479\n",
       "2896     99  T00018.SH       1  0.071460\n",
       "2896    100  T00018.SH       1 -0.065915\n",
       "2896    101  T00018.SH       1 -0.084593\n",
       "\n",
       "[512422 rows x 4 columns]"
      ]
     },
     "execution_count": 4,
     "metadata": {},
     "output_type": "execute_result"
    }
   ],
   "source": [
    "#历史收益数据截取\n",
    "return_in_sample = data_in_sample.loc[:,'month':'return']\n",
    "return_in_sample = return_in_sample.sort_values(['stock','month'])\n",
    "return_in_sample"
   ]
  },
  {
   "cell_type": "code",
   "execution_count": 7,
   "id": "427c0f94",
   "metadata": {
    "ExecuteTime": {
     "end_time": "2023-11-16T11:47:40.871704700Z",
     "start_time": "2023-11-16T11:47:37.664780100Z"
    }
   },
   "outputs": [
    {
     "name": "stderr",
     "output_type": "stream",
     "text": [
      "D:\\Anaconda3\\lib\\site-packages\\scipy\\stats\\_continuous_distns.py:3759: IntegrationWarning: The algorithm does not converge.  Roundoff error is detected\n",
      "  in the extrapolation table.  It is assumed that the requested tolerance\n",
      "  cannot be achieved, and that the returned result (if full_output = 1) is \n",
      "  the best which can be obtained.\n",
      "  intgrl = integrate.quad(llc, x0, x1,\n"
     ]
    }
   ],
   "source": [
    "from fitter import Fitter\n",
    "# 假设df是包含股票数据的DataFrame，具有'month'、'stock'、'status'和'return'列\n",
    "df = return_in_sample\n",
    "# 获取唯一的股票名称\n",
    "unique_stocks = df['stock'].unique()\n",
    "# 从中随机选择五个股票\n",
    "selected_stocks = pd.Series(unique_stocks).sample(n=5, random_state=42).tolist()\n",
    "# 定义要拟合的分布列表\n",
    "distributions = ['expon', 'gamma','dgamma', 'norm','lognorm','skewnorm','laplace_asymmetric','laplace','loglaplace','genhyperbolic','tukeylambda','johnsonsu']\n",
    "# 创建一个空的DataFrame用于存储拟合结果\n",
    "fit_results = pd.DataFrame(columns=['Stock', 'Best Fit Distribution', 'Best Fit Parameters'])\n",
    "# 遍历选定的股票\n",
    "for stock in selected_stocks:\n",
    "    stock_data = df[df['stock'] == stock]\n",
    "    returns = stock_data['return']\n",
    "    # 使用Fitter库拟合分布\n",
    "    f = Fitter(returns,distributions=distributions,bins=45)\n",
    "    #f = Fitter(returns, timeout=100)\n",
    "    f.fit()\n",
    "    best_summary = f.get_best(method='sumsquare_error')\n",
    "    best_fit_name = list(best_summary.keys())[0]\n",
    "    best_fit_params = list(best_summary.values())[0]"
   ]
  },
  {
   "cell_type": "code",
   "execution_count": 9,
   "id": "90137623",
   "metadata": {
    "ExecuteTime": {
     "end_time": "2023-11-16T07:38:24.491794Z",
     "start_time": "2023-11-16T07:38:24.412688Z"
    }
   },
   "outputs": [
    {
     "name": "stdout",
     "output_type": "stream",
     "text": [
      "4848\n"
     ]
    }
   ],
   "source": [
    "unique_stocks = df['stock'].unique()\n",
    "print(len(unique_stocks))"
   ]
  },
  {
   "cell_type": "code",
   "execution_count": null,
   "id": "d30f1026",
   "metadata": {},
   "outputs": [],
   "source": [
    "    # 使用Fitter库拟合分布\n",
    "    fitter = Fitter(returns)\n",
    "    fitter.fit()\n",
    "    fitter.summary()  # 输出拟合结果\n",
    "    # 获取最佳拟合分布和参数\n",
    "    best_fit_name = fitter.get_best()\n",
    "    best_fit_params = fitter.fitted_param[best_fit_name]\n",
    "    \n",
    "    # 将拟合结果存储到DataFrame中\n",
    "    fit_results = fit_results.append({\n",
    "        'Stock': stock,\n",
    "        'Best Fit Distribution': best_fit_name,\n",
    "        'Best Fit Parameters': best_fit_params\n",
    "    }, ignore_index=True)\n",
    "\n",
    "# 打印拟合结果\n",
    "print(fit_results)"
   ]
  }
 ],
 "metadata": {
  "kernelspec": {
   "display_name": "Python 3 (ipykernel)",
   "language": "python",
   "name": "python3"
  },
  "language_info": {
   "codemirror_mode": {
    "name": "ipython",
    "version": 3
   },
   "file_extension": ".py",
   "mimetype": "text/x-python",
   "name": "python",
   "nbconvert_exporter": "python",
   "pygments_lexer": "ipython3",
   "version": "3.9.13"
  },
  "toc": {
   "base_numbering": 1,
   "nav_menu": {},
   "number_sections": true,
   "sideBar": true,
   "skip_h1_title": false,
   "title_cell": "Table of Contents",
   "title_sidebar": "Contents",
   "toc_cell": false,
   "toc_position": {},
   "toc_section_display": true,
   "toc_window_display": false
  },
  "varInspector": {
   "cols": {
    "lenName": 16,
    "lenType": 16,
    "lenVar": 40
   },
   "kernels_config": {
    "python": {
     "delete_cmd_postfix": "",
     "delete_cmd_prefix": "del ",
     "library": "var_list.py",
     "varRefreshCmd": "print(var_dic_list())"
    },
    "r": {
     "delete_cmd_postfix": ") ",
     "delete_cmd_prefix": "rm(",
     "library": "var_list.r",
     "varRefreshCmd": "cat(var_dic_list()) "
    }
   },
   "types_to_exclude": [
    "module",
    "function",
    "builtin_function_or_method",
    "instance",
    "_Feature"
   ],
   "window_display": false
  }
 },
 "nbformat": 4,
 "nbformat_minor": 5
}
